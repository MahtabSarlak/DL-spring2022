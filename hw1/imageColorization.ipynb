{
  "cells": [
    {
      "cell_type": "markdown",
      "id": "7c997405-7ccd-4075-a82d-5b3c8d8d970c",
      "metadata": {
        "tags": [],
        "id": "7c997405-7ccd-4075-a82d-5b3c8d8d970c"
      },
      "source": [
        "# <center>Assignment 2: Convolutional Neural Network</center>\n",
        "**<center>Deep Learning | Spring 2022 | Shahid Beheshti University</center>**\n"
      ]
    },
    {
      "cell_type": "markdown",
      "id": "92103ee9-2bdc-45ad-84fd-6f4093188d9c",
      "metadata": {
        "tags": [],
        "id": "92103ee9-2bdc-45ad-84fd-6f4093188d9c"
      },
      "source": [
        "Welcome to the **second** programming assignment of the Deep Learning course. \n",
        "\n",
        "---\n",
        "\n",
        "<b>overview</b>:\n",
        "\n",
        "The goal of this assignment is to get you familiarized with convolutional neural networks. \n",
        "\n",
        "First, we will train a CNN model as our base model to solve the Image Colorization task. In general, Image Colorization is a difficult problem e.g. a grayscale image, may have several valid coloring images.\n",
        "\n",
        "After training, we will add some configurations to it to check their effect and then analyze it.\n",
        "\n",
        "\n",
        "\n",
        "---\n",
        "<b>Submission tips</b>:\n",
        "\n",
        "please review the notes of **this notebook** and whatever is in the **assignment file**.\n",
        "\n",
        "You can implement other than functions that exist in PY files or change the structure of the notebook based on the given Questions.\n",
        "\n",
        "\n",
        "\n",
        "<b> What these codes do (exist in PY files)</b>:\n",
        "\n",
        "There are four PY files that are required to run the CNN.ipynb. Below, the functionality of each PY file are summarized, but more details are provided in the files themselves.\n",
        "\n",
        "- utils.py: Contain several functions for data preprocessing.\n",
        "- torch_helper.py: Contain several functions used during the training process. `some of them required to implement`\n",
        "- model.py: Contains several classes as the models and their blocks (base model and custom U-Net). `required to implement`\n",
        "- train.py: as the its name show it is for training and validating model. `required to implement`\n",
        "\n",
        "\n",
        "----\n",
        "<b>Due date:</b> 10 Ordibehesht 1401 - 11:59 pm\n",
        " \n",
        "\n",
        " > **_NOTE:_** Alongside the `CNN.ipynb` notebook, there are some python files with the coding parts you need to implement are denoted by: ``` # YOUR CODE #```. Moreover, some <u>Questions</u> are given in the assignment file. \n",
        " \n",
        " \n",
        " ---\n"
      ]
    },
    {
      "cell_type": "markdown",
      "id": "aaac4660-b606-4bee-8079-936b4a7862b1",
      "metadata": {
        "id": "aaac4660-b606-4bee-8079-936b4a7862b1"
      },
      "source": [
        "<p style=\"color:red;\">! Probably you need GPU to train your model so you may use your graphic of your system or if you are on Colab don't forget to enable that:</p>\n",
        "<b><blockquote>Runtime -> Change runtime type -> Hardware Accelator: GPU</blockquote>\n"
      ]
    },
    {
      "cell_type": "markdown",
      "id": "ff6638fd-889e-4cf1-ac74-bcc9463b8907",
      "metadata": {
        "tags": [],
        "id": "ff6638fd-889e-4cf1-ac74-bcc9463b8907"
      },
      "source": [
        "# Packages and modules\n",
        "\n",
        "Let's first import all the packages that you will need during this assignment."
      ]
    },
    {
      "cell_type": "code",
      "source": [
        "from google.colab import drive\n",
        " \n",
        "# Accessing My Google Drive\n",
        "drive.mount('/content/drive')"
      ],
      "metadata": {
        "colab": {
          "base_uri": "https://localhost:8080/"
        },
        "id": "A9OSUQDjBIZi",
        "outputId": "29546af6-6259-47bb-a033-20d10adb4e2c"
      },
      "id": "A9OSUQDjBIZi",
      "execution_count": null,
      "outputs": [
        {
          "output_type": "stream",
          "name": "stdout",
          "text": [
            "Mounted at /content/drive\n"
          ]
        }
      ]
    },
    {
      "cell_type": "code",
      "execution_count": null,
      "id": "86deb510-f6ec-4674-8ced-a4d6e411f746",
      "metadata": {
        "id": "86deb510-f6ec-4674-8ced-a4d6e411f746"
      },
      "outputs": [],
      "source": [
        "# Pytorch library and other packages\n",
        "import torch\n"
      ]
    },
    {
      "cell_type": "markdown",
      "id": "d07f1d62-58ab-4079-bddd-10d243b2f50c",
      "metadata": {
        "id": "d07f1d62-58ab-4079-bddd-10d243b2f50c"
      },
      "source": [
        "# Constants"
      ]
    },
    {
      "cell_type": "code",
      "execution_count": null,
      "id": "a8cbc8f5-d123-44b1-afc3-6fd43201d95f",
      "metadata": {
        "id": "a8cbc8f5-d123-44b1-afc3-6fd43201d95f"
      },
      "outputs": [],
      "source": [
        "colours_dic_addr = '/content/drive/MyDrive/deep/car_colours_kmeans24.npy'\n",
        "your_student_id = 400443232"
      ]
    },
    {
      "cell_type": "markdown",
      "source": [
        "# Utils.py\n"
      ],
      "metadata": {
        "id": "UTfmrdjyBiur"
      },
      "id": "UTfmrdjyBiur"
    },
    {
      "cell_type": "code",
      "source": [
        "import torch\n",
        "import torch.nn as nn\n",
        "\n",
        "import matplotlib.pyplot as plt\n",
        "import numpy as np\n",
        "\n",
        "import os\n",
        "from six.moves.urllib.request import urlretrieve\n",
        "import tarfile\n",
        "import pickle\n",
        "import sys\n",
        "from urllib.error import *\n",
        "\n",
        "\n",
        "def load_cifar10(transpose=False):\n",
        "    \"\"\"Loads CIFAR10 dataset.\n",
        "    # Returns\n",
        "        Tuple of Numpy arrays: `(x_train, y_train), (x_test, y_test)`.\n",
        "    \"\"\"\n",
        "    dirname = 'cifar-10-batches-py'\n",
        "    origin = 'http://www.cs.toronto.edu/~kriz/cifar-10-python.tar.gz'\n",
        "    path = get_file(dirname, origin=origin, untar=True)\n",
        "\n",
        "    num_train_samples = 50000\n",
        "\n",
        "    x_train = np.zeros((num_train_samples, 3, 32, 32), dtype='uint8')\n",
        "    y_train = np.zeros((num_train_samples,), dtype='uint8')\n",
        "\n",
        "    # 50000 training set\n",
        "    for i in range(1, 6):\n",
        "        fpath = os.path.join(path, 'data_batch_' + str(i))\n",
        "        data, labels = load_batch(fpath)\n",
        "        x_train[(i - 1) * 10000: i * 10000, :, :, :] = data\n",
        "        y_train[(i - 1) * 10000: i * 10000] = labels\n",
        "\n",
        "    # 10000 test set\n",
        "    fpath = os.path.join(path, 'test_batch')\n",
        "    x_test, y_test = load_batch(fpath)\n",
        "\n",
        "    y_train = np.reshape(y_train, (len(y_train), 1))\n",
        "    y_test = np.reshape(y_test, (len(y_test), 1))\n",
        "\n",
        "    if transpose:\n",
        "        x_train = x_train.transpose(0, 2, 3, 1)\n",
        "        x_test = x_test.transpose(0, 2, 3, 1)\n",
        "    return (x_train, y_train), (x_test, y_test)\n",
        "\n",
        "\n",
        "def get_file(fname,\n",
        "             origin,\n",
        "             untar=False,\n",
        "             cache_dir='data'):\n",
        "    datadir = os.path.join(cache_dir)\n",
        "    if not os.path.exists(datadir):\n",
        "        os.makedirs(datadir)\n",
        "\n",
        "    if untar:\n",
        "        untar_fpath = os.path.join(datadir, fname)\n",
        "        fpath = untar_fpath + '.tar.gz'\n",
        "    else:\n",
        "        fpath = os.path.join(datadir, fname)\n",
        "\n",
        "    print('File path: %s' % fpath)\n",
        "    if not os.path.exists(fpath):\n",
        "        print('Downloading data from', origin)\n",
        "\n",
        "        error_msg = 'URL fetch failure on {}: {} -- {}'\n",
        "        try:\n",
        "            try:\n",
        "                urlretrieve(origin, fpath)\n",
        "            except URLError as e:\n",
        "                raise Exception(error_msg.format(origin, e.errno, e.reason))\n",
        "            except HTTPError as e:\n",
        "                raise Exception(error_msg.format(origin, e.code, e.msg))\n",
        "        except (Exception, KeyboardInterrupt) as e:\n",
        "            if os.path.exists(fpath):\n",
        "                os.remove(fpath)\n",
        "            raise\n",
        "\n",
        "    if untar:\n",
        "        if not os.path.exists(untar_fpath):\n",
        "            print('Extracting file.')\n",
        "            with tarfile.open(fpath) as archive:\n",
        "                archive.extractall(datadir)\n",
        "        return untar_fpath\n",
        "\n",
        "    return fpath\n",
        "\n",
        "\n",
        "def load_batch(fpath, label_key='labels'):\n",
        "    \"\"\"Internal utility for parsing CIFAR data.\n",
        "    # Arguments\n",
        "        fpath: path the file to parse.\n",
        "        label_key: key for label data in the retrieve\n",
        "            dictionary.\n",
        "    # Returns\n",
        "        A tuple `(data, labels)`.\n",
        "    \"\"\"\n",
        "    f = open(fpath, 'rb')\n",
        "    if sys.version_info < (3,):\n",
        "        d = pickle.load(f)\n",
        "    else:\n",
        "        d = pickle.load(f, encoding='bytes')\n",
        "        # decode utf8\n",
        "        d_decoded = {}\n",
        "        for k, v in d.items():\n",
        "            d_decoded[k.decode('utf8')] = v\n",
        "        d = d_decoded\n",
        "    f.close()\n",
        "    data = d['data']\n",
        "    labels = d[label_key]\n",
        "\n",
        "    data = data.reshape(data.shape[0], 3, 32, 32)\n",
        "    return data, labels\n",
        "\n",
        "\n",
        "def rgb2label(rgb_images, colours, batch_size):\n",
        "    \"\"\"\n",
        "    Get colour categories given RGB values. This function doesn't\n",
        "    actually do the work, instead it splits the work into smaller\n",
        "    chunks that can fit into memory, and calls helper function\n",
        "    _rgb2label\n",
        "\n",
        "    Args:\n",
        "      rgb_images: float numpy array of RGB images in [B, C, H, W] format\n",
        "      colours: numpy array of colour categories and their RGB values\n",
        "      batch_size: int value to determine size of batch\n",
        "    Returns:\n",
        "      result: int numpy array of shape [B, 1, H, W]\n",
        "    \"\"\"\n",
        "    if np.shape(rgb_images)[0] < batch_size:\n",
        "        return _rgb2label(rgb_images)\n",
        "    nexts = []\n",
        "    for i in range(0, np.shape(rgb_images)[0], batch_size):\n",
        "        next = _rgb2label(rgb_images[i:i + batch_size, :, :, :], colours)\n",
        "        nexts.append(next)\n",
        "    result = np.concatenate(nexts, axis=0)\n",
        "    return result\n",
        "\n",
        "\n",
        "def _rgb2label(rgb_images, colours):\n",
        "    \"\"\"\n",
        "    Get colour categories given RGB values. This is done by choosing\n",
        "    the colour in `colours` that is the closest (in RGB space) to\n",
        "    each point in the image `rgb_images`. This function is a little memory\n",
        "    intensive, and so the size of `rgb_images` should not be too large.\n",
        "\n",
        "    Args:\n",
        "      rgb_images: float numpy array of RGB images in [B, C, H, W] format\n",
        "      colours: numpy array of colour categories and their RGB values\n",
        "    Returns:\n",
        "      result: int numpy array of shape [B, 1, H, W]\n",
        "    \"\"\"\n",
        "    num_colours = np.shape(colours)[0]\n",
        "    rgb_images = np.expand_dims(rgb_images, 0)\n",
        "    cs = np.reshape(colours, [num_colours, 1, 3, 1, 1])\n",
        "    # Calculate distance\n",
        "    dists = np.linalg.norm(rgb_images - cs, axis=2)  # 2 = colour axis\n",
        "    label = np.argmin(dists, axis=0)\n",
        "    label = np.expand_dims(label, axis=1)\n",
        "    return label\n",
        "\n",
        "\n",
        "def cat2rgb(labels, colours):\n",
        "    \"\"\"\n",
        "    Get RGB colours given the colour categories\n",
        "\n",
        "    Args:\n",
        "      labels: integer numpy array of colour categories\n",
        "      colours: numpy array of colour categories and their RGB values\n",
        "    Returns:\n",
        "      numpy tensor of RGB colours\n",
        "    \"\"\"\n",
        "    return colours[labels]\n",
        "\n",
        "\n",
        "def process(xs, ys, category_id, max_pixel=256.0, downsize_input=False):\n",
        "    \"\"\"\n",
        "    Pre-process CIFAR10 images by taking only the car category,\n",
        "    shuffling, and have colour values be bound between 0 and 1\n",
        "\n",
        "    Args:\n",
        "      xs: the colour RGB pixel values\n",
        "      ys: the category labels\n",
        "      category_id: int value as the id of each category in CIFAR10 dataset\n",
        "      max_pixel: maximum pixel value in the original data\n",
        "      downsize_input: boolean value\n",
        "    Returns:\n",
        "      xs: value normalized and shuffled colour images\n",
        "      grey: greyscale images, also normalized so values are between 0 and 1\n",
        "    \"\"\"\n",
        "    xs = xs / max_pixel\n",
        "    xs = xs[np.where(ys == category_id)[0], :, :, :]\n",
        "    np.random.shuffle(xs)\n",
        "\n",
        "    grey = np.mean(xs, axis=1, keepdims=True)\n",
        "\n",
        "    if downsize_input:\n",
        "        downsize_module = nn.Sequential(nn.AvgPool2d(2),\n",
        "                                        nn.AvgPool2d(2),\n",
        "                                        nn.Upsample(scale_factor=2),\n",
        "                                        nn.Upsample(scale_factor=2))\n",
        "        xs_downsized = downsize_module.forward(torch.from_numpy(xs).float())\n",
        "        xs_downsized = xs_downsized.data.numpy()\n",
        "        return xs, xs_downsized\n",
        "    else:\n",
        "        return xs, grey\n",
        "\n",
        "\n",
        "def plot(input, gtlabel, output, colours, path, visualize, compare_bilinear=False):\n",
        "    \"\"\"\n",
        "    Generate png plots of input, ground truth, and outputs (10 samples you can change this value)\n",
        "\n",
        "    Args:\n",
        "      input: the greyscale input to the colourization CNN\n",
        "      gtlabel: the grouth truth categories for each pixel\n",
        "      output: the predicted categories for each pixel\n",
        "      colours: numpy array of colour categories and their RGB values\n",
        "      path: output path\n",
        "      visualize: display the figures inline or save the figures in path\n",
        "    \"\"\"\n",
        "    grey = np.transpose(input[:10, :, :, :], [0, 2, 3, 1])\n",
        "    gtcolor = cat2rgb(gtlabel[:10, 0, :, :], colours)\n",
        "    predcolor = cat2rgb(output[:10, 0, :, :], colours)\n",
        "\n",
        "    img_stack = [\n",
        "        np.hstack(np.tile(grey, [1, 1, 1, 3])),\n",
        "        np.hstack(gtcolor),\n",
        "        np.hstack(predcolor)]\n",
        "\n",
        "    if compare_bilinear:\n",
        "        downsize_module = nn.Sequential(nn.AvgPool2d(2),\n",
        "                                        nn.AvgPool2d(2),\n",
        "                                        nn.Upsample(scale_factor=2, mode='bilinear'),\n",
        "                                        nn.Upsample(scale_factor=2, mode='bilinear'))\n",
        "        gt_input = np.transpose(gtcolor, [0, 3, 1, 2, ])\n",
        "        color_bilinear = downsize_module.forward(torch.from_numpy(gt_input).float())\n",
        "        color_bilinear = np.transpose(color_bilinear.data.numpy(), [0, 2, 3, 1])\n",
        "        img_stack = [\n",
        "            np.hstack(np.transpose(input[:10, :, :, :], [0, 2, 3, 1])),\n",
        "            np.hstack(gtcolor),\n",
        "            np.hstack(predcolor),\n",
        "            np.hstack(color_bilinear)]\n",
        "    img = np.vstack(img_stack)\n",
        "\n",
        "    plt.grid('off')\n",
        "    plt.imshow(img, vmin=0., vmax=1.)\n",
        "    if visualize:\n",
        "        plt.show()\n",
        "    else:\n",
        "        plt.savefig(path)\n"
      ],
      "metadata": {
        "id": "jbpu4k0jBlMg"
      },
      "id": "jbpu4k0jBlMg",
      "execution_count": null,
      "outputs": []
    },
    {
      "cell_type": "markdown",
      "source": [
        "# torch_helper.py"
      ],
      "metadata": {
        "id": "lfSd-U31BvGa"
      },
      "id": "lfSd-U31BvGa"
    },
    {
      "cell_type": "code",
      "source": [
        "from torch.autograd import Variable\n",
        "\n",
        "\n",
        "# You can add any function here if needed in the training process\n",
        "\n",
        "def get_batch(x, y, batch_size):\n",
        "    \"\"\"\n",
        "    Generated that yields batches of data\n",
        "\n",
        "    Args:\n",
        "      x: input values\n",
        "      y: output values\n",
        "      batch_size: size of each batch\n",
        "    Yields:\n",
        "      batch_x: a batch of inputs of size at most batch_size\n",
        "      batch_y: a batch of outputs of size at most batch_size\n",
        "    \"\"\"\n",
        "    N = np.shape(x)[0]\n",
        "    assert N == np.shape(y)[0]\n",
        "    for i in range(0, N, batch_size):\n",
        "        batch_x = x[i:i + batch_size, :, :, :]\n",
        "        batch_y = y[i:i + batch_size, :, :, :]\n",
        "        yield batch_x, batch_y\n",
        "\n",
        "\n",
        "def get_torch_vars(xs, ys, gpu=False):\n",
        "    \"\"\"\n",
        "    Helper function to convert numpy arrays to pytorch tensors.\n",
        "    If GPU is used, move the tensors to GPU.\n",
        "\n",
        "    Args:\n",
        "      xs (float numpy tensor): greyscale input\n",
        "      ys (int numpy tensor): categorical labels\n",
        "      gpu (bool): whether to move pytorch tensor to GPU\n",
        "    Returns:\n",
        "      Variable(xs), Variable(ys)\n",
        "    \"\"\"\n",
        "    xs = torch.from_numpy(xs).float()\n",
        "    ys = torch.from_numpy(ys).long()\n",
        "    if gpu:\n",
        "        xs = xs.cuda()\n",
        "        ys = ys.cuda()\n",
        "    return Variable(xs), Variable(ys)\n",
        "\n",
        "\n",
        "# You can implement the model evaluation process in this function\n",
        "def run_validation_step(args,test_grey, test_rgb_cat,model,criterion):\n",
        "    ##############################################################################################\n",
        "    valid_epoch_loss = 0.0\n",
        "    valid_acc = 0.0\n",
        "    total_valid = 0\n",
        "    correct_valid = 0\n",
        "\n",
        "    for i, (xs, ys) in enumerate(get_batch(test_grey,\n",
        "                                               test_rgb_cat,\n",
        "                                               args.batch_size)):\n",
        "            \n",
        "            images, labels = get_torch_vars(xs, ys, args.gpu)\n",
        "\n",
        "            output = model(images)        \n",
        "            loss = compute_loss(criterion, output, labels, args.num_colors)\n",
        "   \n",
        "            valid_epoch_loss += loss.item()\n",
        "            _, predicted = torch.max(output.data, 1, keepdim=True)\n",
        "            total_valid += labels.size(0) * 32 * 32\n",
        "            correct_valid += (predicted == labels.data).sum()      \n",
        "    n_valid_batch = i\n",
        "    valid_epoch_loss = valid_epoch_loss / n_valid_batch\n",
        "    valid_acc = 100 * correct_valid / total_valid\n",
        "    return  valid_epoch_loss, valid_acc\n",
        "    ##############################################################################################\n",
        "    \n"
      ],
      "metadata": {
        "id": "P7jcCaitBzAp"
      },
      "id": "P7jcCaitBzAp",
      "execution_count": null,
      "outputs": []
    },
    {
      "cell_type": "markdown",
      "source": [
        "# Model.py"
      ],
      "metadata": {
        "id": "2DWAhx93ShBx"
      },
      "id": "2DWAhx93ShBx"
    },
    {
      "cell_type": "code",
      "source": [
        "import torch.nn as nn\n",
        "\n",
        "device = torch.device('cuda:0')\n",
        "\n",
        "class DownConv(nn.Module):\n",
        "    def __init__(\n",
        "            self, kernel, in_channels, out_channels, num_filters\n",
        "    ):\n",
        "        super(DownConv, self).__init__()\n",
        "        padding = kernel // 2\n",
        "        out_channels = int(out_channels/2)  \n",
        "        self.down_conv = nn.ModuleList([\n",
        "            nn.Conv2d(in_channels, out_channels, kernel, padding=padding),\n",
        "            nn.BatchNorm2d(num_filters),\n",
        "            nn.MaxPool2d(2),\n",
        "            nn.ReLU(),\n",
        "            nn.Conv2d(out_channels, out_channels*2, kernel, padding=padding),\n",
        "            nn.BatchNorm2d(num_filters*2),\n",
        "            nn.MaxPool2d(2),\n",
        "            nn.ReLU(),\n",
        "            ]).to(device)\n",
        " \n",
        "    def forward(self, x):\n",
        "        ##############################################################################################\n",
        "        for m in self.down_conv:\n",
        "            x = m(x)\n",
        "        return x\n",
        "        ##############################################################################################\n",
        "      \n",
        "\n",
        "class UpConv(nn.Module):\n",
        "    def __init__(\n",
        "            self, kernel, in_channels, out_channels,num_colors, num_filters\n",
        "    ):\n",
        "        super(UpConv, self).__init__()\n",
        "        padding = kernel // 2\n",
        "        self.up_conv = nn.ModuleList([\n",
        "            nn.Conv2d(in_channels, out_channels, kernel, padding=padding),\n",
        "            nn.Upsample(scale_factor=2),\n",
        "            nn.BatchNorm2d(num_filters),\n",
        "            nn.ReLU(),\n",
        "            nn.Conv2d(out_channels, num_colors, kernel, padding=padding),\n",
        "            nn.Upsample(scale_factor=2),\n",
        "            nn.BatchNorm2d(num_colors),\n",
        "            nn.ReLU(),\n",
        "            nn.Conv2d(num_colors, num_colors, kernel, padding=padding)\n",
        "            ]).to(device)\n",
        "        \n",
        "\n",
        "    def forward(self, x):\n",
        "        ##############################################################################################\n",
        "        for m in self.up_conv:\n",
        "            x = m(x)\n",
        "        return x\n",
        "        ##############################################################################################\n",
        "\n",
        "\n",
        "\n",
        "class Bottleneck(nn.Module):\n",
        "    def __init__(\n",
        "            self, kernel, in_channels, out_channels, num_filters\n",
        "    ):\n",
        "        super(Bottleneck, self).__init__()\n",
        "        padding = kernel // 2\n",
        "        self.bottle_neck = nn.ModuleList([\n",
        "            nn.Conv2d(in_channels, out_channels, kernel, padding=padding),\n",
        "            nn.BatchNorm2d(num_filters),\n",
        "            nn.ReLU(),\n",
        "            ]).to(device)\n",
        "\n",
        "    def forward(self, x):\n",
        "        ##############################################################################################\n",
        "        for m in self.bottle_neck:\n",
        "            x = m(x)\n",
        "        return x\n",
        "        ##############################################################################################\n",
        "\n",
        "\n",
        "class BaseModel(nn.Module):\n",
        "    def __init__(\n",
        "            self, num_filters, num_colors, kernel, in_channels=1\n",
        "    ):\n",
        "        super(BaseModel, self).__init__()  \n",
        "        self.num_filters = num_filters \n",
        "        # kernel = 5, in_channels = 1 , out_channels=64, num_filters= 32 \n",
        "        self.downs = DownConv(kernel= kernel, in_channels = in_channels , out_channels=self.num_filters*2, num_filters = self.num_filters )\n",
        "        # kernel = 5, in_channels = 64, out_channels=64, num_filters= 64 \n",
        "        self.bottle_neck = Bottleneck(kernel = kernel, in_channels = self.num_filters*2, out_channels=self.num_filters*2, num_filters= self.num_filters*2 )\n",
        "        # kernel = 5, in_channels = 64, out_channels=32, num_colors= 10 \n",
        "        self.ups = UpConv(kernel = kernel, in_channels =self.num_filters*2, out_channels=self.num_filters, num_colors= num_colors, num_filters=self.num_filters)\n",
        "        # Other properties if needed\n",
        "\n",
        "        # Down part of the model, bottleneck, Up part of the model, final conv\n",
        "        ##############################################################################################\n",
        "        self.layer_lists = [self.downs, self.bottle_neck, self.ups]\n",
        "        ##############################################################################################\n",
        "\n",
        "    def forward(self, x):\n",
        "        ##############################################################################################\n",
        "        for m in self.layer_lists:\n",
        "          x = m(x)\n",
        "        return x\n",
        "        ##############################################################################################\n",
        "\n",
        "class DownBlock(nn.Module):\n",
        "    def __init__(\n",
        "            self, kernel, in_channels, out_channels, num_filters\n",
        "    ):\n",
        "        super(DownBlock, self).__init__()\n",
        "        padding = kernel // 2\n",
        "        self.down_block = nn.Sequential(\n",
        "            nn.Conv2d(in_channels, out_channels, kernel, padding=padding),\n",
        "            nn.BatchNorm2d(num_filters),\n",
        "            nn.MaxPool2d(2),\n",
        "            nn.ReLU(),\n",
        "            ).to(device)\n",
        " \n",
        "    def forward(self, x):\n",
        "        ##############################################################################################\n",
        "        for m in self.down_block:\n",
        "            x = m(x)\n",
        "        return x\n",
        "        ##############################################################################################\n",
        "\n",
        "class upBlock(nn.Module):\n",
        "    def __init__(\n",
        "            self, kernel, in_channels, out_channels, num_filters\n",
        "    ):\n",
        "        super(upBlock, self).__init__()\n",
        "        padding = kernel // 2\n",
        "        self.up_block = nn.Sequential(\n",
        "            nn.Conv2d(in_channels, out_channels, kernel, padding=padding),\n",
        "            nn.Upsample(scale_factor=2),\n",
        "            nn.BatchNorm2d(num_filters),\n",
        "            nn.ReLU(),\n",
        "            ).to(device)\n",
        "        \n",
        " \n",
        "    def forward(self, x):\n",
        "        ##############################################################################################\n",
        "        for m in self.up_block:\n",
        "            x = m(x)\n",
        "        return x\n",
        "        ##############################################################################################\n",
        "\n",
        "class finalConv(nn.Module):\n",
        "    def __init__(\n",
        "            self, kernel, in_channels, out_channels, num_colors\n",
        "    ):\n",
        "        super(finalConv, self).__init__()\n",
        "        padding = kernel // 2\n",
        "        self.final_conv = nn.Sequential(\n",
        "            nn.Conv2d(num_colors + in_channels, out_channels, kernel, padding=padding)\n",
        "            ).to(device)\n",
        "        \n",
        " \n",
        "    def forward(self, x):\n",
        "        ##############################################################################################\n",
        "        for m in self.final_conv:\n",
        "            x = m(x)\n",
        "        return x\n",
        "        ##############################################################################################\n",
        "      \n",
        "\n",
        "class CustomUNET(nn.Module):\n",
        "    def __init__(\n",
        "            self, num_filters, num_colors, kernel, in_channels=1\n",
        "    ):\n",
        "        super(CustomUNET, self).__init__()\n",
        "\n",
        "        self.ups = nn.ModuleList().to(device)\n",
        "        self.downs = nn.ModuleList().to(device)\n",
        "        # Other properties if needed\n",
        "\n",
        "        # Down part of the model, bottleneck, Up part of the model, final conv\n",
        "        ##############################################################################################\n",
        "        self.down_1 = DownBlock(kernel= kernel, in_channels = in_channels , out_channels=num_filters, num_filters = num_filters )\n",
        "        self.down_2 = DownBlock(kernel= kernel, in_channels = num_filters , out_channels=num_filters*2, num_filters = num_filters*2 )\n",
        "        self.bottle_neck =  Bottleneck(kernel = kernel, in_channels = num_filters*2, out_channels= num_filters*2, num_filters= num_filters*2 )\n",
        "        self.up_1 = upBlock(kernel= kernel, in_channels = num_filters*4 , out_channels=num_filters, num_filters = num_filters )\n",
        "        self.up_2 = upBlock(kernel= kernel, in_channels = num_filters*2 , out_channels=num_colors, num_filters = num_colors )\n",
        "        self.final = finalConv(kernel= kernel, in_channels =in_channels, num_colors = num_colors , out_channels=num_colors)\n",
        "        # self.downs.append(down_1)\n",
        "        # self.downs.append(down_2)\n",
        "        # self.ups.append(up_1)\n",
        "        # self.ups.append(up_2)\n",
        "        ##############################################################################################\n",
        "\n",
        "    def forward(self, x):\n",
        "        ##############################################################################################\n",
        "        self.out1 = self.down_1(x)\n",
        "        self.out2 = self.down_2(self.out1)\n",
        "        self.out3 = self.bottle_neck(self.out2)\n",
        "        self.out4 = self.up_1(torch.cat((self.out3, self.out2), dim=1))\n",
        "        self.out5 = self.up_2(torch.cat((self.out4, self.out1), dim=1))\n",
        "        self.out6 = self.final(torch.cat((self.out5, x), dim=1))\n",
        "        return self.out6\n",
        "        ##############################################################################################\n",
        "        None\n",
        "\n"
      ],
      "metadata": {
        "id": "qQMQohohSggA"
      },
      "id": "qQMQohohSggA",
      "execution_count": null,
      "outputs": []
    },
    {
      "cell_type": "code",
      "source": [
        "base_model = BaseModel(32, 24, 3)\n",
        "print(base_model)"
      ],
      "metadata": {
        "id": "-4wTuAM2F3lw",
        "colab": {
          "base_uri": "https://localhost:8080/"
        },
        "outputId": "e4215340-f2bc-4fba-bbb0-563dae305883"
      },
      "id": "-4wTuAM2F3lw",
      "execution_count": null,
      "outputs": [
        {
          "output_type": "stream",
          "name": "stdout",
          "text": [
            "BaseModel(\n",
            "  (downs): DownConv(\n",
            "    (down_conv): ModuleList(\n",
            "      (0): Conv2d(1, 32, kernel_size=(3, 3), stride=(1, 1), padding=(1, 1))\n",
            "      (1): BatchNorm2d(32, eps=1e-05, momentum=0.1, affine=True, track_running_stats=True)\n",
            "      (2): MaxPool2d(kernel_size=2, stride=2, padding=0, dilation=1, ceil_mode=False)\n",
            "      (3): ReLU()\n",
            "      (4): Conv2d(32, 64, kernel_size=(3, 3), stride=(1, 1), padding=(1, 1))\n",
            "      (5): BatchNorm2d(64, eps=1e-05, momentum=0.1, affine=True, track_running_stats=True)\n",
            "      (6): MaxPool2d(kernel_size=2, stride=2, padding=0, dilation=1, ceil_mode=False)\n",
            "      (7): ReLU()\n",
            "    )\n",
            "  )\n",
            "  (bottle_neck): Bottleneck(\n",
            "    (bottle_neck): ModuleList(\n",
            "      (0): Conv2d(64, 64, kernel_size=(3, 3), stride=(1, 1), padding=(1, 1))\n",
            "      (1): BatchNorm2d(64, eps=1e-05, momentum=0.1, affine=True, track_running_stats=True)\n",
            "      (2): ReLU()\n",
            "    )\n",
            "  )\n",
            "  (ups): UpConv(\n",
            "    (up_conv): ModuleList(\n",
            "      (0): Conv2d(64, 32, kernel_size=(3, 3), stride=(1, 1), padding=(1, 1))\n",
            "      (1): Upsample(scale_factor=2.0, mode=nearest)\n",
            "      (2): BatchNorm2d(32, eps=1e-05, momentum=0.1, affine=True, track_running_stats=True)\n",
            "      (3): ReLU()\n",
            "      (4): Conv2d(32, 24, kernel_size=(3, 3), stride=(1, 1), padding=(1, 1))\n",
            "      (5): Upsample(scale_factor=2.0, mode=nearest)\n",
            "      (6): BatchNorm2d(24, eps=1e-05, momentum=0.1, affine=True, track_running_stats=True)\n",
            "      (7): ReLU()\n",
            "      (8): Conv2d(24, 24, kernel_size=(3, 3), stride=(1, 1), padding=(1, 1))\n",
            "    )\n",
            "  )\n",
            ")\n"
          ]
        }
      ]
    },
    {
      "cell_type": "code",
      "source": [
        "unet_model = CustomUNET(32, 24, 3)\n",
        "print(unet_model)"
      ],
      "metadata": {
        "id": "xwaNPMhvbIaf",
        "colab": {
          "base_uri": "https://localhost:8080/"
        },
        "outputId": "46cdaddf-f29d-4b13-db8c-76d6ab8f335e"
      },
      "id": "xwaNPMhvbIaf",
      "execution_count": null,
      "outputs": [
        {
          "output_type": "stream",
          "name": "stdout",
          "text": [
            "CustomUNET(\n",
            "  (ups): ModuleList()\n",
            "  (downs): ModuleList()\n",
            "  (down_1): DownBlock(\n",
            "    (down_block): Sequential(\n",
            "      (0): Conv2d(1, 32, kernel_size=(3, 3), stride=(1, 1), padding=(1, 1))\n",
            "      (1): BatchNorm2d(32, eps=1e-05, momentum=0.1, affine=True, track_running_stats=True)\n",
            "      (2): MaxPool2d(kernel_size=2, stride=2, padding=0, dilation=1, ceil_mode=False)\n",
            "      (3): ReLU()\n",
            "    )\n",
            "  )\n",
            "  (down_2): DownBlock(\n",
            "    (down_block): Sequential(\n",
            "      (0): Conv2d(32, 64, kernel_size=(3, 3), stride=(1, 1), padding=(1, 1))\n",
            "      (1): BatchNorm2d(64, eps=1e-05, momentum=0.1, affine=True, track_running_stats=True)\n",
            "      (2): MaxPool2d(kernel_size=2, stride=2, padding=0, dilation=1, ceil_mode=False)\n",
            "      (3): ReLU()\n",
            "    )\n",
            "  )\n",
            "  (bottle_neck): Bottleneck(\n",
            "    (bottle_neck): ModuleList(\n",
            "      (0): Conv2d(64, 64, kernel_size=(3, 3), stride=(1, 1), padding=(1, 1))\n",
            "      (1): BatchNorm2d(64, eps=1e-05, momentum=0.1, affine=True, track_running_stats=True)\n",
            "      (2): ReLU()\n",
            "    )\n",
            "  )\n",
            "  (up_1): upBlock(\n",
            "    (up_block): Sequential(\n",
            "      (0): Conv2d(128, 32, kernel_size=(3, 3), stride=(1, 1), padding=(1, 1))\n",
            "      (1): Upsample(scale_factor=2.0, mode=nearest)\n",
            "      (2): BatchNorm2d(32, eps=1e-05, momentum=0.1, affine=True, track_running_stats=True)\n",
            "      (3): ReLU()\n",
            "    )\n",
            "  )\n",
            "  (up_2): upBlock(\n",
            "    (up_block): Sequential(\n",
            "      (0): Conv2d(64, 24, kernel_size=(3, 3), stride=(1, 1), padding=(1, 1))\n",
            "      (1): Upsample(scale_factor=2.0, mode=nearest)\n",
            "      (2): BatchNorm2d(24, eps=1e-05, momentum=0.1, affine=True, track_running_stats=True)\n",
            "      (3): ReLU()\n",
            "    )\n",
            "  )\n",
            "  (final): finalConv(\n",
            "    (final_conv): Sequential(\n",
            "      (0): Conv2d(25, 24, kernel_size=(3, 3), stride=(1, 1), padding=(1, 1))\n",
            "    )\n",
            "  )\n",
            ")\n"
          ]
        }
      ]
    },
    {
      "cell_type": "markdown",
      "id": "a7729b04-64c0-4653-ba91-bced98cc3940",
      "metadata": {
        "id": "a7729b04-64c0-4653-ba91-bced98cc3940"
      },
      "source": [
        "# Dataset\n"
      ]
    },
    {
      "cell_type": "markdown",
      "id": "91d9c443-7156-4f12-937b-abfd36522753",
      "metadata": {
        "id": "91d9c443-7156-4f12-937b-abfd36522753"
      },
      "source": [
        "## Prepare Dataset: cifar10"
      ]
    },
    {
      "cell_type": "markdown",
      "id": "ae0eb6d4-7635-4719-9476-f74664de16e4",
      "metadata": {
        "id": "ae0eb6d4-7635-4719-9476-f74664de16e4"
      },
      "source": [
        "**CIFAR-10** is considered for this assignment which consists of images of size 32x32 pixels. For simplicity, one category of this dataset is considered (automobile).\n",
        "The input and output of the network will be the grayscale image and RGB image respectively. by **running** the following code blocks get the dataset.\n",
        "\n",
        "The subset of **24 colors** that are selected to colorize the grayscale images is provided in the car_colours_kmeans24.npy file."
      ]
    },
    {
      "cell_type": "code",
      "execution_count": null,
      "id": "10eb596f-a90f-4bb3-877b-94456f9d500c",
      "metadata": {
        "id": "10eb596f-a90f-4bb3-877b-94456f9d500c"
      },
      "outputs": [],
      "source": [
        "# Download CIFAR dataset\n",
        "(x_train, y_train), (x_test, y_test) = load_cifar10()\n",
        "\n",
        "# LOAD THE COLOURS CATEGORIES\n",
        "colours = np.load(colours_dic_addr, allow_pickle=True, encoding='bytes')"
      ]
    },
    {
      "cell_type": "markdown",
      "source": [
        "# train.py"
      ],
      "metadata": {
        "id": "D2d3PIeiBllL"
      },
      "id": "D2d3PIeiBllL"
    },
    {
      "cell_type": "code",
      "source": [
        "pip install torchviz"
      ],
      "metadata": {
        "colab": {
          "base_uri": "https://localhost:8080/"
        },
        "id": "maZzP-5JxBix",
        "outputId": "a0399f5b-2dc0-4056-f6cb-21aed8cceb18"
      },
      "id": "maZzP-5JxBix",
      "execution_count": null,
      "outputs": [
        {
          "output_type": "stream",
          "name": "stdout",
          "text": [
            "Collecting torchviz\n",
            "  Downloading torchviz-0.0.2.tar.gz (4.9 kB)\n",
            "Requirement already satisfied: torch in /usr/local/lib/python3.7/dist-packages (from torchviz) (1.11.0+cu113)\n",
            "Requirement already satisfied: graphviz in /usr/local/lib/python3.7/dist-packages (from torchviz) (0.10.1)\n",
            "Requirement already satisfied: typing-extensions in /usr/local/lib/python3.7/dist-packages (from torch->torchviz) (4.2.0)\n",
            "Building wheels for collected packages: torchviz\n",
            "  Building wheel for torchviz (setup.py) ... \u001b[?25l\u001b[?25hdone\n",
            "  Created wheel for torchviz: filename=torchviz-0.0.2-py3-none-any.whl size=4150 sha256=5f8d3ffa984db253184ecaae47d4f6da014b9b12f626b0471d966bc9dc5d898e\n",
            "  Stored in directory: /root/.cache/pip/wheels/04/38/f5/dc4f85c3909051823df49901e72015d2d750bd26b086480ec2\n",
            "Successfully built torchviz\n",
            "Installing collected packages: torchviz\n",
            "Successfully installed torchviz-0.0.2\n"
          ]
        }
      ]
    },
    {
      "cell_type": "code",
      "source": [
        "import matplotlib.pyplot as plt\n",
        "import numpy as np\n",
        "from torch.utils.tensorboard import SummaryWriter\n",
        "from torchviz import make_dot\n",
        "\n",
        "def compute_loss(criterion, outputs, labels, num_colors):\n",
        "\n",
        "        \n",
        "        num_samples = outputs.shape[0]\n",
        "        \n",
        "        outputs = outputs.transpose(1, 3).contiguous()\n",
        "        labels = labels.transpose(1, 3).contiguous()\n",
        "\n",
        "        \n",
        "        outputs = outputs.view([num_samples * 32 * 32, num_colors])\n",
        "        \n",
        "        labels = labels.view([num_samples * 32 * 32])        \n",
        "        \n",
        "        return criterion(outputs, labels)\n",
        "\n",
        "def train(args):\n",
        "    # Set the maximum number of threads to prevent crash in Teaching Labs\n",
        "    #####################################################################################\n",
        "    # TODO: Implement this function to train model and consider the below items         #\n",
        "    # 0. read the utils file and use 'process' and 'get_rgb_cat' to get x and y for     #\n",
        "    #    test and train dataset                                                         #\n",
        "    # 1. Create train and test data loaders with respect to some hyper-parameters       #\n",
        "    # 2. Get an instance of your 'model_mode' based on 'model_mode==base' or            #\n",
        "    #    'model_mode==U-Net'.                                                           #\n",
        "    # 3. Define an appropriate loss function (cross entropy loss)                       #\n",
        "    # 4. Define an optimizers with proper hyper-parameters such as (learning_rate, ...).#\n",
        "    # 5. Implement the main loop function with n_epochs iterations which the learning   #\n",
        "    #    and evaluation process occurred there.                                         #\n",
        "    # 6. Save the model weights                                                         #\n",
        "    # Hint: Modify the predicted output form the model, to use loss function in step 3  #\n",
        "    #####################################################################################\n",
        "    \"\"\"\n",
        "    Train the model\n",
        "    \n",
        "    Args:\n",
        "     model_mode: String\n",
        "    Returns:\n",
        "      model: trained model\n",
        "    \"\"\"\n",
        "    torch.set_num_threads(5)\n",
        "\n",
        "    # Numpy random seed\n",
        "    np.random.seed(args.seed)\n",
        "\n",
        "    # Save directory\n",
        "    save_dir = \"/content/drive/MyDrive/deep/outputs/\" + args.experiment_name\n",
        "\n",
        "    # default `log_dir` \n",
        "    writer = SummaryWriter('/content/drive/MyDrive/deep/runs/'+ args.experiment_name )\n",
        "\n",
        "    # Download CIFAR dataset\n",
        "    (x_train, y_train), (x_test, y_test) = load_cifar10()\n",
        "\n",
        "    # LOAD THE COLOURS CATEGORIES\n",
        "    colours = np.load(args.colours_dic_addr,  allow_pickle=True, encoding='bytes')\n",
        "\n",
        "    print(\"Transforming data...\")\n",
        "    # Get X(grayscale images) and Y(the nearest Color to each pixel based on given color dictionary)\n",
        "    train_rgb, train_grey = process(x_train, y_train, downsize_input=args.downsize_input, category_id=args.category_id)\n",
        "    train_rgb_cat = rgb2label(train_rgb, colours, args.batch_size)\n",
        "    test_rgb, test_grey = process(x_test, y_test, downsize_input=args.downsize_input, category_id=args.category_id)\n",
        "    test_rgb_cat = rgb2label(test_rgb, colours, args.batch_size)\n",
        "\n",
        "    # LOAD THE MODEL\n",
        "    ##############################################################################################\n",
        "    if args.model_mode == 'base':\n",
        "      model = BaseModel(args.num_filters, args.num_colors, args.kernel)\n",
        "    elif  args.model_mode == 'unet': \n",
        "      model = CustomUNET(args.num_filters, args.num_colors, args.kernel)\n",
        "    ##############################################################################################\n",
        "\n",
        "    # LOSS FUNCTION and Optimizer\n",
        "    ##############################################################################################\n",
        "    criterion = nn.CrossEntropyLoss()\n",
        "    optimizer = torch.optim.Adam(model.parameters(), lr=args.learning_rate)\n",
        "    ##############################################################################################\n",
        "\n",
        "    # Create the outputs' folder if not created already\n",
        "    if not os.path.exists(save_dir):\n",
        "        os.makedirs(save_dir)\n",
        "\n",
        "    train_losses = []\n",
        "    valid_losses = []\n",
        "    valid_accs = []\n",
        "    train_accs = []\n",
        "\n",
        "    # Early stopping\n",
        "    last_loss = 100\n",
        "    patience = 2\n",
        "    triggertimes = 0\n",
        "\n",
        "    # Training loop\n",
        "    for epoch in range(args.epochs):\n",
        "        train_epoch_loss = 0.0\n",
        "        train_acc = 0.0\n",
        "        total_train = 0\n",
        "        correct_train = 0\n",
        "\n",
        "        # Train the Model\n",
        "        model.train()  # Change model to 'train' mode\n",
        "        losses = []\n",
        "        for i, (xs, ys) in enumerate(get_batch(train_grey,\n",
        "                                               train_rgb_cat,\n",
        "                                               args.batch_size)):\n",
        "            # Convert numpy array to pytorch tensors\n",
        "            images, labels = get_torch_vars(xs, ys, args.gpu)\n",
        "\n",
        "\n",
        "            # Forward + Backward + Optimize\n",
        "            ##############################################################################################\n",
        "            optimizer.zero_grad()\n",
        "        \n",
        "            output = model(images)    \n",
        "            make_dot(output, params=dict(list(model.named_parameters()))).render(args.experiment_name, format=\"png\")    \n",
        "\n",
        "            loss = compute_loss(criterion, output, labels, args.num_colors)\n",
        "            \n",
        "            loss.backward()    \n",
        "            optimizer.step()    \n",
        "            train_epoch_loss += loss.item()\n",
        "            _, predicted = torch.max(output.data, 1, keepdim=True)\n",
        "            total_train += labels.size(0) * 32 * 32\n",
        "            correct_train += (predicted == labels.data).sum()\n",
        "            ##############################################################################################\n",
        "\n",
        "        # Calculate and Print training loss for each epoch\n",
        "        ##############################################################################################\n",
        "        n_training_batch = i\n",
        "        train_epoch_loss = train_epoch_loss / n_training_batch\n",
        "        train_losses.append(train_epoch_loss)\n",
        "        train_acc = 100 * correct_train / total_train\n",
        "        train_accs.append(train_acc)\n",
        "        writer.add_scalar('Train Loss', train_epoch_loss, epoch)\n",
        "        writer.add_scalar('Train Accuracy', train_acc, epoch)\n",
        "        if epoch % args.print_every == 0:\n",
        "          print(\n",
        "              'Epoch [{}/{}]:\\t Train Loss: {:.4f}, Train accuracy: {:.4f}'.format(\n",
        "                  epoch + 1,\n",
        "                  args.epochs,\n",
        "                  train_epoch_loss,\n",
        "                  train_acc)) \n",
        "        if args.plot:\n",
        "            plot(xs, ys, predicted.cpu().numpy(), colours,\n",
        "                 save_dir+'/train_%d.png' % epoch, \n",
        "                 args.visualize, \n",
        "                 args.downsize_input)\n",
        "        ##############################################################################################\n",
        "\n",
        "        # Evaluate the model\n",
        "        ##############################################################################################\n",
        "        model.eval()\n",
        "        val_loss, val_acc = run_validation_step(args,test_grey, test_rgb_cat,model,criterion)\n",
        "        ##############################################################################################\n",
        "\n",
        "        # Calculate and Print (validation loss, validation accuracy) for each epoch\n",
        "        ##############################################################################################\n",
        "        valid_losses.append(val_loss)\n",
        "        valid_accs.append(val_acc)\n",
        "        writer.add_scalar('Valid Loss', val_loss, epoch)\n",
        "        writer.add_scalar('Valid Accuracy', val_acc, epoch)\n",
        "        if epoch % args.print_every == 0:\n",
        "          print(\n",
        "              'Epoch [{}/{}]:\\t Valid Loss: {:.4f}, Valid accuracy: {:.4f}'.format(\n",
        "                  epoch + 1,\n",
        "                  args.epochs,\n",
        "                  val_loss,\n",
        "                  val_acc))\n",
        "        ##############################################################################################\n",
        "        if val_loss > last_loss:\n",
        "            trigger_times += 1\n",
        "            print('The Last Loss: ', last_loss, ' The Current Loss: ',val_loss )\n",
        "            print('Trigger Times:', trigger_times)\n",
        "\n",
        "            if trigger_times >= patience:\n",
        "                print('Early stopping!')\n",
        "                return model\n",
        "\n",
        "        else:\n",
        "            print('trigger times: 0')\n",
        "            trigger_times = 0\n",
        "\n",
        "        last_loss = val_loss\n",
        "    \n",
        "    # Plot training-validation curve\n",
        "    plt.figure()\n",
        "    plt.plot(train_losses, \"ro-\", label=\"Train\")\n",
        "    plt.plot(valid_losses, \"go-\", label=\"Validation\")\n",
        "    plt.legend()\n",
        "    plt.title(\"Loss\")\n",
        "    plt.xlabel(\"Epochs\")\n",
        "    plt.savefig(save_dir + \"/training_curve.png\")\n",
        "\n",
        "    if args.checkpoint:\n",
        "        print('Saving model...')\n",
        "        torch.save(model.state_dict(), args.checkpoint)\n",
        "\n",
        "    return model\n"
      ],
      "metadata": {
        "id": "MI9jUkb1BsS8"
      },
      "id": "MI9jUkb1BsS8",
      "execution_count": null,
      "outputs": []
    },
    {
      "cell_type": "markdown",
      "id": "47321667-f3cd-4cbc-a6b7-c6b13e726958",
      "metadata": {
        "tags": [],
        "id": "47321667-f3cd-4cbc-a6b7-c6b13e726958"
      },
      "source": [
        "# Image Colorization "
      ]
    },
    {
      "cell_type": "markdown",
      "id": "f64da99c-20bd-4bc6-81cb-38c48cec220b",
      "metadata": {
        "id": "f64da99c-20bd-4bc6-81cb-38c48cec220b"
      },
      "source": [
        "## Base Model"
      ]
    },
    {
      "cell_type": "markdown",
      "id": "1ec0b84e-0601-4b69-8e9c-8771838e55ef",
      "metadata": {
        "tags": [],
        "id": "1ec0b84e-0601-4b69-8e9c-8771838e55ef"
      },
      "source": [
        "### Training"
      ]
    },
    {
      "cell_type": "code",
      "execution_count": null,
      "id": "801a4fe8-b1ab-4530-a2ae-7d0e201a4e04",
      "metadata": {
        "id": "801a4fe8-b1ab-4530-a2ae-7d0e201a4e04",
        "colab": {
          "base_uri": "https://localhost:8080/",
          "height": 829
        },
        "outputId": "e5cc7235-fb45-4cbd-c513-422b303aeced"
      },
      "outputs": [
        {
          "output_type": "stream",
          "name": "stdout",
          "text": [
            "File path: data/cifar-10-batches-py.tar.gz\n",
            "Transforming data...\n",
            "Epoch [1/50]:\t Train Loss: 3.0059, Train accuracy: 13.9022\n",
            "Epoch [1/50]:\t Valid Loss: 3.0543, Valid accuracy: 20.8192\n",
            "Epoch [6/50]:\t Train Loss: 2.1666, Train accuracy: 31.9023\n",
            "Epoch [6/50]:\t Valid Loss: 2.3070, Valid accuracy: 33.3040\n",
            "Epoch [11/50]:\t Train Loss: 1.9592, Train accuracy: 35.8226\n",
            "Epoch [11/50]:\t Valid Loss: 2.1020, Valid accuracy: 37.2719\n",
            "Epoch [16/50]:\t Train Loss: 1.8614, Train accuracy: 37.7729\n",
            "Epoch [16/50]:\t Valid Loss: 2.0012, Valid accuracy: 39.1037\n",
            "Epoch [21/50]:\t Train Loss: 1.8019, Train accuracy: 38.9653\n",
            "Epoch [21/50]:\t Valid Loss: 1.9400, Valid accuracy: 40.1409\n",
            "Epoch [26/50]:\t Train Loss: 1.7608, Train accuracy: 39.7873\n",
            "Epoch [26/50]:\t Valid Loss: 1.8987, Valid accuracy: 40.8845\n",
            "Epoch [31/50]:\t Train Loss: 1.7301, Train accuracy: 40.4294\n",
            "Epoch [31/50]:\t Valid Loss: 1.8686, Valid accuracy: 41.4086\n",
            "Epoch [36/50]:\t Train Loss: 1.7057, Train accuracy: 40.9512\n",
            "Epoch [36/50]:\t Valid Loss: 1.8455, Valid accuracy: 41.8461\n",
            "Epoch [41/50]:\t Train Loss: 1.6853, Train accuracy: 41.4161\n",
            "Epoch [41/50]:\t Valid Loss: 1.8272, Valid accuracy: 42.2241\n",
            "Epoch [46/50]:\t Train Loss: 1.6678, Train accuracy: 41.8277\n",
            "Epoch [46/50]:\t Valid Loss: 1.8121, Valid accuracy: 42.5342\n",
            "Saving model...\n"
          ]
        },
        {
          "output_type": "display_data",
          "data": {
            "text/plain": [
              "<Figure size 432x288 with 1 Axes>"
            ],
            "image/png": "[encoded data removed]"
          },
          "metadata": {
            "needs_background": "light"
          }
        },
        {
          "output_type": "display_data",
          "data": {
            "text/plain": [
              "<Figure size 432x288 with 1 Axes>"
            ],
            "image/png": "[encoded data removed]"
          },
          "metadata": {
            "needs_background": "light"
          }
        }
      ],
      "source": [
        "##############################################################################################\n",
        "#                                 define some arguments if needed to pass                    #\n",
        "##############################################################################################\n",
        "\n",
        "class AttrDict(dict):\n",
        "    def __init__(self, *args, **kwargs):\n",
        "        super(AttrDict, self).__init__(*args, **kwargs)\n",
        "        self.__dict__ = self\n",
        "args = AttrDict()\n",
        "args_dict = {\n",
        "              'gpu':True, \n",
        "              'seed':400443232,\n",
        "              'category_id': 1,\n",
        "              'learning_rate':0.0001,\n",
        "              'colours_dic_addr':'/content/drive/MyDrive/deep/car_colours_kmeans24.npy', \n",
        "              'model_mode':\"base\", \n",
        "              'experiment_name': 'base_model',\n",
        "              'checkpoint': '/content/drive/MyDrive/deep/checkpoint/base_model.pth',\n",
        "              'kernel':3,\n",
        "              'num_filters':32, \n",
        "              'batch_size':100, \n",
        "              'num_colors': 24,\n",
        "              'epochs':50, \n",
        "              'plot':True, \n",
        "              'visualize': False,\n",
        "              'print_every':5,\n",
        "              'downsize_input':False,\n",
        "}\n",
        "args.update(args_dict)\n",
        "\n",
        "##############################################################################################\n",
        "base_model = train(args)\n",
        "##############################################################################################\n"
      ]
    },
    {
      "cell_type": "code",
      "source": [
        "for name, param in base_model.named_parameters():\n",
        "    if param.requires_grad:\n",
        "        print(name, param.data.shape)"
      ],
      "metadata": {
        "id": "wQx2W76ROOYZ"
      },
      "id": "wQx2W76ROOYZ",
      "execution_count": null,
      "outputs": []
    },
    {
      "cell_type": "markdown",
      "id": "cebe40ac-9bdf-48c8-a116-be96d006ba59",
      "metadata": {
        "id": "cebe40ac-9bdf-48c8-a116-be96d006ba59"
      },
      "source": [
        "Complete the <code>model.py</code> to train your model\n",
        "\n",
        "<br>\n",
        "\n",
        "<p align=\"center\">\n",
        "  <img src=\"images/baseModel.png\">\n",
        "</p>"
      ]
    },
    {
      "cell_type": "markdown",
      "id": "cf258610-8177-4884-b0ff-0512395a50bc",
      "metadata": {
        "id": "cf258610-8177-4884-b0ff-0512395a50bc"
      },
      "source": [
        "## Custom U-Net Model"
      ]
    },
    {
      "cell_type": "markdown",
      "id": "13f9ed7a-adfb-4646-b401-ca5e4e77c79a",
      "metadata": {
        "id": "13f9ed7a-adfb-4646-b401-ca5e4e77c79a"
      },
      "source": [
        "Complete the <code>model.py</code> to train your model"
      ]
    },
    {
      "cell_type": "markdown",
      "id": "7ca5e38c-ac4a-4893-a3e3-c477df1a48a9",
      "metadata": {
        "id": "7ca5e38c-ac4a-4893-a3e3-c477df1a48a9"
      },
      "source": [
        "### Training"
      ]
    },
    {
      "cell_type": "code",
      "execution_count": null,
      "id": "63f54720-a76a-4f00-aedd-6d5327dc0e9d",
      "metadata": {
        "id": "63f54720-a76a-4f00-aedd-6d5327dc0e9d",
        "colab": {
          "base_uri": "https://localhost:8080/",
          "height": 829
        },
        "outputId": "28af1b8f-617b-476d-d3c8-5ed4f1d8916a"
      },
      "outputs": [
        {
          "output_type": "stream",
          "name": "stdout",
          "text": [
            "File path: data/cifar-10-batches-py.tar.gz\n",
            "Transforming data...\n",
            "Epoch [1/50]:\t Train Loss: 2.9572, Train accuracy: 13.9577\n",
            "Epoch [1/50]:\t Valid Loss: 3.0145, Valid accuracy: 20.6269\n",
            "Epoch [6/50]:\t Train Loss: 2.0866, Train accuracy: 34.3274\n",
            "Epoch [6/50]:\t Valid Loss: 2.2253, Valid accuracy: 35.8317\n",
            "Epoch [11/50]:\t Train Loss: 1.8544, Train accuracy: 39.0109\n",
            "Epoch [11/50]:\t Valid Loss: 1.9868, Valid accuracy: 40.6417\n",
            "Epoch [16/50]:\t Train Loss: 1.7342, Train accuracy: 41.5534\n",
            "Epoch [16/50]:\t Valid Loss: 1.8650, Valid accuracy: 43.0051\n",
            "Epoch [21/50]:\t Train Loss: 1.6586, Train accuracy: 43.1993\n",
            "Epoch [21/50]:\t Valid Loss: 1.7906, Valid accuracy: 44.4346\n",
            "Epoch [26/50]:\t Train Loss: 1.6051, Train accuracy: 44.4508\n",
            "Epoch [26/50]:\t Valid Loss: 1.7389, Valid accuracy: 45.4831\n",
            "Epoch [31/50]:\t Train Loss: 1.5638, Train accuracy: 45.4867\n",
            "Epoch [31/50]:\t Valid Loss: 1.7005, Valid accuracy: 46.2647\n",
            "Epoch [36/50]:\t Train Loss: 1.5296, Train accuracy: 46.3762\n",
            "Epoch [36/50]:\t Valid Loss: 1.6698, Valid accuracy: 46.9414\n",
            "Epoch [41/50]:\t Train Loss: 1.5002, Train accuracy: 47.1594\n",
            "Epoch [41/50]:\t Valid Loss: 1.6455, Valid accuracy: 47.4705\n",
            "Epoch [46/50]:\t Train Loss: 1.4742, Train accuracy: 47.8767\n",
            "Epoch [46/50]:\t Valid Loss: 1.6249, Valid accuracy: 47.9739\n",
            "Saving model...\n"
          ]
        },
        {
          "output_type": "display_data",
          "data": {
            "text/plain": [
              "<Figure size 432x288 with 1 Axes>"
            ],
            "image/png": "[encoded data removed]"
          },
          "metadata": {
            "needs_background": "light"
          }
        },
        {
          "output_type": "display_data",
          "data": {
            "text/plain": [
              "<Figure size 432x288 with 1 Axes>"
            ],
            "image/png": "[encoded data removed]"
          },
          "metadata": {
            "needs_background": "light"
          }
        }
      ],
      "source": [
        "##############################################################################################\n",
        "#                                 define some arguments if needed to pass                    #\n",
        "##############################################################################################\n",
        "\n",
        "class AttrDict(dict):\n",
        "    def __init__(self, *args, **kwargs):\n",
        "        super(AttrDict, self).__init__(*args, **kwargs)\n",
        "        self.__dict__ = self\n",
        "args = AttrDict()\n",
        "# define other arguments if needed during training\n",
        "args_dict = {\n",
        "              'gpu':True, \n",
        "              'seed':400443232,\n",
        "              'category_id': 1,\n",
        "              'learning_rate':0.0001,\n",
        "              'colours_dic_addr':'/content/drive/MyDrive/deep/car_colours_kmeans24.npy', \n",
        "              'model_mode':\"unet\", \n",
        "              'experiment_name': 'unet_model',\n",
        "              'checkpoint': '/content/drive/MyDrive/deep/checkpoint/unet_model.pth',\n",
        "              'kernel':3,\n",
        "              'num_filters':32, \n",
        "              'batch_size':100, \n",
        "              'num_colors': 24,\n",
        "              'epochs':50, \n",
        "              'plot':True, \n",
        "              'visualize': False,\n",
        "              'print_every':5,\n",
        "              'downsize_input':False,\n",
        "}\n",
        "args.update(args_dict)\n",
        "\n",
        "##############################################################################################\n",
        "unet_model = train(args)\n",
        "##############################################################################################"
      ]
    },
    {
      "cell_type": "markdown",
      "id": "19cbac1d-e2df-4640-ad5a-6c15c2928e08",
      "metadata": {
        "id": "19cbac1d-e2df-4640-ad5a-6c15c2928e08"
      },
      "source": [
        "# Refrences"
      ]
    },
    {
      "cell_type": "markdown",
      "id": "a0e0eb1d-b94e-44c9-b61a-ea5b9d449fe0",
      "metadata": {
        "id": "a0e0eb1d-b94e-44c9-b61a-ea5b9d449fe0"
      },
      "source": [
        "- https://ai.stanford.edu/~syyeung/cvweb/tutorial1.html\n",
        "- https://pytorch.org/docs/stable/generated/torch.nn.CrossEntropyLoss.html\n",
        "- http://papers.nips.cc/paper/7515-how-does-batch-normalization-help-optimization.pdf\n",
        "- Intro to optimization in deep learning: Busting the myth about batch normalization [[link](https://blog.paperspace.com/busting-the-myths-about-batch-normalization/)]\n",
        "- Why Does Batch Normalization Work? [[link](https://abay.tech/blog/2018/07/01/why-does-batch-normalization-work/)]\n",
        "- https://arxiv.org/abs/1505.04597\n"
      ]
    }
  ],
  "metadata": {
    "kernelspec": {
      "display_name": "Python 3 (ipykernel)",
      "language": "python",
      "name": "python3"
    },
    "language_info": {
      "codemirror_mode": {
        "name": "ipython",
        "version": 3
      },
      "file_extension": ".py",
      "mimetype": "text/x-python",
      "name": "python",
      "nbconvert_exporter": "python",
      "pygments_lexer": "ipython3",
      "version": "3.8.13"
    },
    "colab": {
      "provenance": [],
      "collapsed_sections": [
        "a7729b04-64c0-4653-ba91-bced98cc3940",
        "91d9c443-7156-4f12-937b-abfd36522753",
        "cf258610-8177-4884-b0ff-0512395a50bc"
      ],
      "toc_visible": true
    },
    "accelerator": "GPU"
  },
  "nbformat": 4,
  "nbformat_minor": 5
}